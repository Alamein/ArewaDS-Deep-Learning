{
  "cells": [
    {
      "cell_type": "markdown",
      "metadata": {
        "colab_type": "text",
        "id": "view-in-github"
      },
      "source": [
        "<a href=\"https://colab.research.google.com/github/Alamein/ArewaDS-Deep-Learning/blob/main/Advanced_Assignments/week_1_%26_2_Advanced_exercises.ipynb\" target=\"_parent\"><img src=\"https://colab.research.google.com/assets/colab-badge.svg\" alt=\"Open In Colab\"/></a>"
      ]
    },
    {
      "cell_type": "markdown",
      "metadata": {
        "id": "VDnBMjnx15FE"
      },
      "source": [
        "(a) Load the Synchronous Machine Learning Dataset as a Numpy array.\n"
      ]
    },
    {
      "cell_type": "code",
      "execution_count": 1,
      "metadata": {
        "colab": {
          "base_uri": "https://localhost:8080/"
        },
        "id": "H27NNPVO16zY",
        "outputId": "6824443f-df76-4ae6-eea3-caf5f9044d82"
      },
      "outputs": [
        {
          "name": "stdout",
          "output_type": "stream",
          "text": [
            "--2023-12-31 17:07:45--  https://archive.ics.uci.edu/static/public/607/synchronous+machine+data+set.zip\n",
            "Resolving archive.ics.uci.edu (archive.ics.uci.edu)... 128.195.10.252\n",
            "Connecting to archive.ics.uci.edu (archive.ics.uci.edu)|128.195.10.252|:443... connected.\n",
            "HTTP request sent, awaiting response... 200 OK\n",
            "Length: unspecified\n",
            "Saving to: ‘data.zip’\n",
            "\n",
            "\rdata.zip                [<=>                 ]       0  --.-KB/s               \rdata.zip                [ <=>                ]  14.37K  --.-KB/s    in 0.03s   \n",
            "\n",
            "2023-12-31 17:07:45 (552 KB/s) - ‘data.zip’ saved [14713]\n",
            "\n"
          ]
        }
      ],
      "source": [
        "import zipfile\n",
        "import pandas as pd\n",
        "\n",
        "# download dataset in colab env\n",
        "!wget https://archive.ics.uci.edu/static/public/607/synchronous+machine+data+set.zip -O data.zip\n",
        "\n",
        "# unzip data\n",
        "with zipfile.ZipFile(\"data.zip\", 'r') as my_zip:\n",
        "    my_zip.extractall()\n",
        "\n",
        "# read csv and parse to pandas\n",
        "dataset_name = \"synchronous machine.csv\"\n",
        "data = pd.read_csv(dataset_name, delimiter=\";\", thousands=',')\n",
        "\n",
        "# get numpy data\n",
        "numpy_data = data.values"
      ]
    },
    {
      "cell_type": "markdown",
      "metadata": {
        "id": "a6aObQF12SFb"
      },
      "source": [
        "(b) Convert the Numpy array to PyTorch tensor, original data tensor."
      ]
    },
    {
      "cell_type": "code",
      "execution_count": 2,
      "metadata": {
        "id": "y_q1ZV7n2ILw"
      },
      "outputs": [],
      "source": [
        "# import working library\n",
        "import torch\n",
        "\n",
        "original_data_tensor = torch.tensor(numpy_data)"
      ]
    },
    {
      "cell_type": "markdown",
      "metadata": {
        "id": "EACPxW9r2j19"
      },
      "source": [
        "Question 2. Art of \"Tensor Manipulation\"\n",
        "\n",
        "(a) Print the size of the dataset."
      ]
    },
    {
      "cell_type": "code",
      "execution_count": 3,
      "metadata": {
        "colab": {
          "base_uri": "https://localhost:8080/"
        },
        "id": "Ix2uOD1k2ZsJ",
        "outputId": "f68cf03a-6289-4124-b5d5-12be05171e05"
      },
      "outputs": [
        {
          "name": "stdout",
          "output_type": "stream",
          "text": [
            "Size of the dataset: torch.Size([557, 5])\n"
          ]
        }
      ],
      "source": [
        "print(\"Size of the dataset:\", original_data_tensor.size())"
      ]
    },
    {
      "cell_type": "markdown",
      "metadata": {
        "id": "ldENQcZ328tV"
      },
      "source": [
        "(b) Create a tensor, my pi tensor, of the same size as the original data tensor containing values of 3.142 at every point and placed on your GPU device. Print the first 13 rows. Print tensor device location. Print tensor datatype."
      ]
    },
    {
      "cell_type": "code",
      "execution_count": 4,
      "metadata": {
        "colab": {
          "base_uri": "https://localhost:8080/"
        },
        "id": "XechI9n72zmi",
        "outputId": "dccbda05-e65a-445f-9112-dccfdc0f6399"
      },
      "outputs": [
        {
          "name": "stdout",
          "output_type": "stream",
          "text": [
            "First 13 rows of my pi tensor:\n",
            " tensor([[3.1420, 3.1420, 3.1420, 3.1420, 3.1420],\n",
            "        [3.1420, 3.1420, 3.1420, 3.1420, 3.1420],\n",
            "        [3.1420, 3.1420, 3.1420, 3.1420, 3.1420],\n",
            "        [3.1420, 3.1420, 3.1420, 3.1420, 3.1420],\n",
            "        [3.1420, 3.1420, 3.1420, 3.1420, 3.1420],\n",
            "        [3.1420, 3.1420, 3.1420, 3.1420, 3.1420],\n",
            "        [3.1420, 3.1420, 3.1420, 3.1420, 3.1420],\n",
            "        [3.1420, 3.1420, 3.1420, 3.1420, 3.1420],\n",
            "        [3.1420, 3.1420, 3.1420, 3.1420, 3.1420],\n",
            "        [3.1420, 3.1420, 3.1420, 3.1420, 3.1420],\n",
            "        [3.1420, 3.1420, 3.1420, 3.1420, 3.1420],\n",
            "        [3.1420, 3.1420, 3.1420, 3.1420, 3.1420],\n",
            "        [3.1420, 3.1420, 3.1420, 3.1420, 3.1420]], device='cuda:0')\n",
            "Tensor device location: cuda:0\n",
            "Tensor datatype: torch.float32\n"
          ]
        }
      ],
      "source": [
        "# Hints: torch.ones_like(), .to(), .cuda(), .cpu(), .dtype\n",
        "my_pi_tensor = torch.ones_like(original_data_tensor) * 3.142\n",
        "my_pi_tensor = my_pi_tensor.to(device='cuda')  # Assuming GPU is available\n",
        "\n",
        "print(\"First 13 rows of my pi tensor:\\n\", my_pi_tensor[:13, :])\n",
        "print(\"Tensor device location:\", my_pi_tensor.device)\n",
        "print(\"Tensor datatype:\", my_pi_tensor.dtype)"
      ]
    },
    {
      "cell_type": "markdown",
      "metadata": {
        "id": "qF93IuQw3U0N"
      },
      "source": [
        "(c) Print the fifth-root of the sum of all values in my pi tensor."
      ]
    },
    {
      "cell_type": "code",
      "execution_count": 10,
      "metadata": {
        "colab": {
          "base_uri": "https://localhost:8080/"
        },
        "id": "RSsez77h3NKI",
        "outputId": "dac4c0c4-3e0a-4467-bce4-ba683f9484a8"
      },
      "outputs": [
        {
          "name": "stdout",
          "output_type": "stream",
          "text": [
            "Fifth-root of the sum of my pi tensor: tensor(6.1434, device='cuda:0')\n",
            "Fifth-root of the sum of my pi tensor: 6.14\n"
          ]
        }
      ],
      "source": [
        "fifth_root = torch.pow(my_pi_tensor.sum(), 1/5)\n",
        "fifth_root_r = float(format(fifth_root, '.2f'))\n",
        "print(\"Fifth-root of the sum of my pi tensor:\", fifth_root)\n",
        "# view pi tensor to 2dp\n",
        "print(\"Fifth-root of the sum of my pi tensor:\", fifth_root_r)"
      ]
    },
    {
      "cell_type": "markdown",
      "metadata": {
        "id": "Htn8DapT4vqL"
      },
      "source": [
        "(d) Create a new tensor, my data tensor, using the first and last 100 rows from the original data tensor. Print the size of my data tensor [Expect a size of 200 rows]."
      ]
    },
    {
      "cell_type": "code",
      "execution_count": 11,
      "metadata": {
        "colab": {
          "base_uri": "https://localhost:8080/"
        },
        "id": "daz5WRpo3ZuN",
        "outputId": "3b542816-dc39-4ac7-d060-e088c1289a3c"
      },
      "outputs": [
        {
          "name": "stdout",
          "output_type": "stream",
          "text": [
            "Size of my data tensor: torch.Size([200, 5])\n"
          ]
        }
      ],
      "source": [
        "my_data_tensor = torch.cat([original_data_tensor[:100], original_data_tensor[-100:]])\n",
        "print(\"Size of my data tensor:\", my_data_tensor.size())"
      ]
    },
    {
      "cell_type": "markdown",
      "metadata": {
        "id": "leBy0yji41yY"
      },
      "source": [
        "(e) Create two 1-D tensors, features and target, from my data tensor. The feature is dIf (Changing of excitation current of synchronous machine) column, and the target is If (Excitation current of synchronous machine)."
      ]
    },
    {
      "cell_type": "code",
      "execution_count": 12,
      "metadata": {
        "id": "9Vm8ysGr40fa"
      },
      "outputs": [],
      "source": [
        "features = my_data_tensor[:, 0]  # Assuming the column index of dIf\n",
        "target = my_data_tensor[:, 1]    # Assuming the column index of If"
      ]
    },
    {
      "cell_type": "markdown",
      "metadata": {
        "id": "i1_JNsyY5Jqc"
      },
      "source": [
        "(f) Split your data into training and test data of ratio 75:25, respectively."
      ]
    },
    {
      "cell_type": "code",
      "execution_count": 13,
      "metadata": {
        "id": "Wh0uZMTV5CXo"
      },
      "outputs": [],
      "source": [
        "from sklearn.model_selection import train_test_split\n",
        "\n",
        "features_train, features_test, target_train, target_test = train_test_split(features, target, test_size=0.25, random_state=42)"
      ]
    },
    {
      "cell_type": "markdown",
      "metadata": {
        "id": "oIvvO7qF5wos"
      },
      "source": [
        "2. PyTorch Workflow Fundamentals\n",
        "\n",
        "Question 3. Define your Linear model structure. You can use existing model"
      ]
    },
    {
      "cell_type": "code",
      "execution_count": 14,
      "metadata": {
        "id": "aR22zSR050LP"
      },
      "outputs": [],
      "source": [
        "from re import X\n",
        "import torch.nn as nn\n",
        "\n",
        "class LinearRegressionModel(nn.Module):\n",
        "    def __init__(self):\n",
        "        super(LinearRegressionModel, self).__init__()\n",
        "        self.linear = nn.Linear(1, 1)  # Assuming one input feature and one output\n",
        "\n",
        "    def forward(self, x):\n",
        "        return self.linear(x)"
      ]
    },
    {
      "cell_type": "markdown",
      "metadata": {
        "id": "faklr9SW6erB"
      },
      "source": [
        "Question 4. Train model for any number of epochs. Generate 1 plot of Loss against Epoch during model training and testing. Choose any set of hyperparameters for model training."
      ]
    },
    {
      "cell_type": "code",
      "execution_count": 18,
      "metadata": {
        "colab": {
          "base_uri": "https://localhost:8080/",
          "height": 465
        },
        "id": "kAUKaKcu6ojd",
        "outputId": "32e347e4-c363-4e4e-848d-5ac9abd34198"
      },
      "outputs": [
        {
          "data": {
            "image/png": "[encoded data removed]",
            "text/plain": [
              "<Figure size 640x480 with 1 Axes>"
            ]
          },
          "metadata": {},
          "output_type": "display_data"
        }
      ],
      "source": [
        "import torch.optim as optim\n",
        "import matplotlib.pyplot as plt\n",
        "\n",
        "# Assuming model, criterion, and data are defined\n",
        "# Hints: torch.optim.SGD(), .backward(), .step(), .zero_grad(), .detach()\n",
        "\n",
        "model = LinearRegressionModel()\n",
        "criterion = nn.MSELoss()\n",
        "optimizer = optim.SGD(model.parameters(), lr=0.01)\n",
        "\n",
        "num_epochs = 100\n",
        "train_losses, test_losses = [], []\n",
        "\n",
        "for epoch in range(num_epochs):\n",
        "    model.train()\n",
        "    optimizer.zero_grad()\n",
        "    outputs = model(features_train.view(-1, 1).float())\n",
        "    loss = criterion(outputs, target_train.view(-1, 1).float())\n",
        "    loss.backward()\n",
        "    optimizer.step()\n",
        "    train_losses.append(loss.item())\n",
        "\n",
        "    model.eval()\n",
        "    with torch.no_grad():\n",
        "        test_outputs = model(features_test.view(-1, 1).float())\n",
        "        test_loss = criterion(test_outputs, target_test.view(-1, 1).float())\n",
        "        test_losses.append(test_loss.item())\n",
        "\n",
        "# Plotting\n",
        "plt.plot(range(1, num_epochs + 1), train_losses, label='Training Loss')\n",
        "plt.plot(range(1, num_epochs + 1), test_losses, label='Testing Loss')\n",
        "plt.xlabel('Epoch')\n",
        "plt.ylabel('Loss')\n",
        "plt.legend()\n",
        "plt.show()"
      ]
    },
    {
      "cell_type": "markdown",
      "metadata": {
        "id": "xWWoBlge7PsQ"
      },
      "source": [
        "Question 5. Briefly comment on your results. What could be done to make the model or prediction\n",
        "better? (< 60 words)"
      ]
    },
    {
      "cell_type": "markdown",
      "metadata": {
        "id": "Op8T-7EL7k7N"
      },
      "source": [
        "##### The model training and testing losses indicate that the model is learning. To improve predictions, consider hyperparameter tuning, adding complexity to the model, or exploring more advanced algorithms. Additionally, feature scaling and addressing outliers could enhance model performance. Regularization techniques may be applied to prevent overfitting."
      ]
    }
  ],
  "metadata": {
    "accelerator": "GPU",
    "colab": {
      "authorship_tag": "ABX9TyMITAWgBLg3RsiZpTGjP5Am",
      "gpuType": "T4",
      "include_colab_link": true,
      "mount_file_id": "1zMVjT0VVJYK19Izr-WlvN5mwtM2R62A2",
      "provenance": []
    },
    "kernelspec": {
      "display_name": "Python 3",
      "name": "python3"
    },
    "language_info": {
      "name": "python"
    }
  },
  "nbformat": 4,
  "nbformat_minor": 0
}
