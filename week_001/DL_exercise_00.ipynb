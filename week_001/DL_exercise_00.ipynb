{
  "cells": [
    {
      "cell_type": "markdown",
      "metadata": {
        "colab_type": "text",
        "id": "view-in-github"
      },
      "source": [
        "<a href=\"https://colab.research.google.com/github/Alamein/ArewaDS-Deep-Learning/blob/main/week_001/DL_exercise_00.ipynb\" target=\"_parent\"><img src=\"https://colab.research.google.com/assets/colab-badge.svg\" alt=\"Open In Colab\"/></a>"
      ]
    },
    {
      "cell_type": "markdown",
      "metadata": {
        "id": "-9U2OBC31Y3Q"
      },
      "source": [
        "## **Arewa Data Science Academy**\n",
        "\n",
        "### **Deep Learning Cohort1.0**\n",
        "\n",
        "### **Name: Aminu Hamza Nababa**\n",
        "\n",
        "### **Email: alaminhnab4@gmail.com**\n",
        "\n",
        "### **Title: Week 1 Solution**\n",
        "\n",
        "### **Exercises Solution**"
      ]
    },
    {
      "cell_type": "markdown",
      "metadata": {},
      "source": [
        "1. Create a random tensor with shape (7, 7)."
      ]
    },
    {
      "cell_type": "code",
      "execution_count": 3,
      "metadata": {
        "colab": {
          "base_uri": "https://localhost:8080/"
        },
        "id": "H19YSGjvjh5x",
        "outputId": "a3a2a173-4a47-4670-fd13-63314ec115dc"
      },
      "outputs": [
        {
          "data": {
            "text/plain": [
              "(tensor([[0.1290, 0.0942, 0.2571, 0.4599, 0.7504, 0.2432, 0.1291],\n",
              "         [0.3229, 0.1035, 0.4086, 0.1372, 0.5456, 0.6709, 0.4707],\n",
              "         [0.0881, 0.7634, 0.7649, 0.6903, 0.8070, 0.3696, 0.6248],\n",
              "         [0.6214, 0.3284, 0.5429, 0.5165, 0.1296, 0.8755, 0.1751],\n",
              "         [0.9878, 0.1393, 0.6006, 0.3440, 0.6009, 0.1054, 0.7379],\n",
              "         [0.0115, 0.7817, 0.3779, 0.2363, 0.6360, 0.8848, 0.5039],\n",
              "         [0.9324, 0.3465, 0.4234, 0.6071, 0.9618, 0.9405, 0.5214]]),\n",
              " torch.Size([7, 7]))"
            ]
          },
          "execution_count": 3,
          "metadata": {},
          "output_type": "execute_result"
        }
      ],
      "source": [
        "# 1\n",
        "import torch\n",
        "\n",
        "# crt random tensor\n",
        "X = torch.rand(size=(7, 7))\n",
        "X, X.shape"
      ]
    },
    {
      "cell_type": "markdown",
      "metadata": {
        "id": "MDJuHwHg3gcJ"
      },
      "source": [
        "2. Perform a matrix multiplication on the tensor from 2 with another random tensor with shape (1, 7)"
      ]
    },
    {
      "cell_type": "code",
      "execution_count": 5,
      "metadata": {
        "colab": {
          "base_uri": "https://localhost:8080/"
        },
        "id": "Xwi1-sPr3j3p",
        "outputId": "99b37f50-5ee3-4670-96d4-be993cab7f00"
      },
      "outputs": [
        {
          "data": {
            "text/plain": [
              "(tensor([[1.1223],\n",
              "         [1.7293],\n",
              "         [2.4358],\n",
              "         [1.8221],\n",
              "         [2.4466],\n",
              "         [1.9645],\n",
              "         [2.7820]]),\n",
              " torch.Size([7, 1]))"
            ]
          },
          "execution_count": 5,
          "metadata": {},
          "output_type": "execute_result"
        }
      ],
      "source": [
        "Y = torch.rand(size=(1, 7))\n",
        "Z = torch.matmul(X, Y.T)\n",
        "Z, Z.shape"
      ]
    },
    {
      "cell_type": "markdown",
      "metadata": {
        "id": "NBVxIMcx4BFf"
      },
      "source": [
        "3. Set the random seed to 0 and do 2 & 3 over again."
      ]
    },
    {
      "cell_type": "code",
      "execution_count": 6,
      "metadata": {
        "colab": {
          "base_uri": "https://localhost:8080/"
        },
        "id": "nIzBXr5M39kQ",
        "outputId": "93fc41b4-e749-47f1-d941-9d1d9a89db0e"
      },
      "outputs": [
        {
          "data": {
            "text/plain": [
              "(tensor([[1.8542],\n",
              "         [1.9611],\n",
              "         [2.2884],\n",
              "         [3.0481],\n",
              "         [1.7067],\n",
              "         [2.5290],\n",
              "         [1.7989]]),\n",
              " torch.Size([7, 1]))"
            ]
          },
          "execution_count": 6,
          "metadata": {},
          "output_type": "execute_result"
        }
      ],
      "source": [
        "# manual seed setting\n",
        "torch.manual_seed(0)\n",
        "\n",
        "# Crtng two random tensors\n",
        "X = torch.rand(size=(7, 7))\n",
        "Y = torch.rand(size=(1, 7))\n",
        "\n",
        "# Matrix multiply tensors\n",
        "Z = torch.matmul(X, Y.T)\n",
        "Z, Z.shape"
      ]
    },
    {
      "cell_type": "markdown",
      "metadata": {
        "id": "NSNhwsaw4iJa"
      },
      "source": [
        "4. Speaking of random seeds, we saw how to set it with torch.manual_seed() but is there a GPU equivalent?"
      ]
    },
    {
      "cell_type": "code",
      "execution_count": 7,
      "metadata": {
        "id": "JGfaaNRO4suW"
      },
      "outputs": [],
      "source": [
        "# random seed on the GPU\n",
        "torch.cuda.manual_seed(1234)"
      ]
    },
    {
      "cell_type": "markdown",
      "metadata": {
        "id": "Js6GUiwl5XI4"
      },
      "source": [
        "5. Create two random tensors of shape (2, 3) and send them both to the GPU (you'll need access to a GPU for this). Set torch.manual_seed(1234) when creating the tensors (this doesn't have to be the GPU random seed)."
      ]
    },
    {
      "cell_type": "code",
      "execution_count": 9,
      "metadata": {
        "colab": {
          "base_uri": "https://localhost:8080/"
        },
        "id": "crbWbi8042zj",
        "outputId": "c226bf1a-9560-4a3c-d9bf-146b9300049a"
      },
      "outputs": [
        {
          "name": "stdout",
          "output_type": "stream",
          "text": [
            "Device: cuda\n"
          ]
        },
        {
          "data": {
            "text/plain": [
              "(tensor([[0.0290, 0.4019, 0.2598],\n",
              "         [0.3666, 0.0583, 0.7006]], device='cuda:0'),\n",
              " tensor([[0.0518, 0.4681, 0.6738],\n",
              "         [0.3315, 0.7837, 0.5631]], device='cuda:0'))"
            ]
          },
          "execution_count": 9,
          "metadata": {},
          "output_type": "execute_result"
        }
      ],
      "source": [
        "# st random seed\n",
        "torch.manual_seed(1234)\n",
        "\n",
        "# Chck for access to GPU\n",
        "device = \"cuda\" if torch.cuda.is_available() else \"cpu\"\n",
        "print(f\"Device: {device}\")\n",
        "\n",
        "# Crt 2 random tensors on GPU\n",
        "tensor_A = torch.rand(size = (2,3)).to(device)\n",
        "tensor_B = torch.rand(size = (2,3)).to(device)\n",
        "tensor_A, tensor_B"
      ]
    },
    {
      "cell_type": "markdown",
      "metadata": {
        "id": "nEVSdRYv6CW1"
      },
      "source": [
        "6. Perform a matrix multiplication on the tensors you created in 6 (again, you may have to adjust the shapes of one of the tensors)."
      ]
    },
    {
      "cell_type": "code",
      "execution_count": 10,
      "metadata": {
        "colab": {
          "base_uri": "https://localhost:8080/"
        },
        "id": "Flx1WC9Y502W",
        "outputId": "ac92a967-0dbb-4b4d-cd40-bdeb53ef8f42"
      },
      "outputs": [
        {
          "data": {
            "text/plain": [
              "(tensor([[0.3647, 0.4709],\n",
              "         [0.5184, 0.5617]], device='cuda:0'),\n",
              " torch.Size([2, 2]))"
            ]
          },
          "execution_count": 10,
          "metadata": {},
          "output_type": "execute_result"
        }
      ],
      "source": [
        "tensor_C = torch.matmul(tensor_A, tensor_B.T)\n",
        "tensor_C, tensor_C.shape"
      ]
    },
    {
      "cell_type": "markdown",
      "metadata": {
        "id": "zrDg13Bs6MKt"
      },
      "source": [
        "7. Find the maximum and minimum values of the output of 7."
      ]
    },
    {
      "cell_type": "code",
      "execution_count": 11,
      "metadata": {
        "colab": {
          "base_uri": "https://localhost:8080/"
        },
        "id": "5ctI5lAu6LDo",
        "outputId": "2e3c8687-c59f-4267-ce59-2b70b0dea017"
      },
      "outputs": [
        {
          "data": {
            "text/plain": [
              "(tensor(0.5617, device='cuda:0'), tensor(0.3647, device='cuda:0'))"
            ]
          },
          "execution_count": 11,
          "metadata": {},
          "output_type": "execute_result"
        }
      ],
      "source": [
        "# max\n",
        "max = torch.max(tensor_C)\n",
        "\n",
        "# min\n",
        "min = torch.min(tensor_C)\n",
        "max, min"
      ]
    },
    {
      "cell_type": "markdown",
      "metadata": {
        "id": "5yDgwx-g6ekJ"
      },
      "source": [
        "8. Find the maximum and minimum index values of the output of 7."
      ]
    },
    {
      "cell_type": "code",
      "execution_count": 12,
      "metadata": {
        "colab": {
          "base_uri": "https://localhost:8080/"
        },
        "id": "3WOGfVCi6chR",
        "outputId": "fba1cc4f-40f6-42c3-aa71-77653bb0d26a"
      },
      "outputs": [
        {
          "data": {
            "text/plain": [
              "(tensor(3, device='cuda:0'), tensor(0, device='cuda:0'))"
            ]
          },
          "execution_count": 12,
          "metadata": {},
          "output_type": "execute_result"
        }
      ],
      "source": [
        "# arg max\n",
        "arg_max = torch.argmax(tensor_C)\n",
        "\n",
        "# arg min\n",
        "arg_min = torch.argmin(tensor_C)\n",
        "arg_max, arg_min"
      ]
    },
    {
      "cell_type": "markdown",
      "metadata": {
        "id": "DT8PM2um6uBo"
      },
      "source": [
        "9. Make a random tensor with shape (1, 1, 1, 10) and then create a new tensor with all the 1 dimensions removed to be left with a tensor of shape (10). Set the seed to 7 when you create it and print out the first tensor and it's shape as well as the second tensor and it's shape."
      ]
    },
    {
      "cell_type": "code",
      "execution_count": 13,
      "metadata": {
        "colab": {
          "base_uri": "https://localhost:8080/"
        },
        "id": "_Y8dFPxS6siE",
        "outputId": "9a1361a4-6eaa-40f4-8750-7099cd012b3a"
      },
      "outputs": [
        {
          "name": "stdout",
          "output_type": "stream",
          "text": [
            "tensor([[[[0.5349, 0.1988, 0.6592, 0.6569, 0.2328, 0.4251, 0.2071, 0.6297,\n",
            "           0.3653, 0.8513]]]]) torch.Size([1, 1, 1, 10])\n",
            "tensor([0.5349, 0.1988, 0.6592, 0.6569, 0.2328, 0.4251, 0.2071, 0.6297, 0.3653,\n",
            "        0.8513]) torch.Size([10])\n"
          ]
        }
      ],
      "source": [
        "# st seed\n",
        "torch.manual_seed(7)\n",
        "\n",
        "# Crt random tensor\n",
        "tensor_D = torch.rand(size=(1, 1, 1, 10))\n",
        "\n",
        "# Rmv single dimensions\n",
        "tensor_E = tensor_D.squeeze()\n",
        "\n",
        "# Prnt out tensors\n",
        "print(tensor_D, tensor_D.shape)\n",
        "print(tensor_E, tensor_E.shape)"
      ]
    },
    {
      "cell_type": "markdown",
      "metadata": {},
      "source": [
        "10. Exercise 1 is not a coding base execise, it is reading exercise"
      ]
    }
  ],
  "metadata": {
    "accelerator": "GPU",
    "colab": {
      "authorship_tag": "ABX9TyPQKfah8FaqzfjFegonox4Z",
      "gpuType": "T4",
      "include_colab_link": true,
      "mount_file_id": "1hAxxWFr7NnVv7utl6sdKBa81LUNZfmeB",
      "provenance": []
    },
    "kernelspec": {
      "display_name": "Python 3",
      "name": "python3"
    },
    "language_info": {
      "name": "python"
    }
  },
  "nbformat": 4,
  "nbformat_minor": 0
}
