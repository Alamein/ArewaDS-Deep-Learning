{
  "nbformat": 4,
  "nbformat_minor": 0,
  "metadata": {
    "colab": {
      "provenance": [],
      "gpuType": "T4",
      "mount_file_id": "1hAxxWFr7NnVv7utl6sdKBa81LUNZfmeB",
      "authorship_tag": "ABX9TyPQKfah8FaqzfjFegonox4Z",
      "include_colab_link": true
    },
    "kernelspec": {
      "name": "python3",
      "display_name": "Python 3"
    },
    "language_info": {
      "name": "python"
    },
    "accelerator": "GPU"
  },
  "cells": [
    {
      "cell_type": "markdown",
      "metadata": {
        "id": "view-in-github",
        "colab_type": "text"
      },
      "source": [
        "<a href=\"https://colab.research.google.com/github/Alamein/ArewaDS-Deep-Learning/blob/main/week_001/DL_exercise_00.ipynb\" target=\"_parent\"><img src=\"https://colab.research.google.com/assets/colab-badge.svg\" alt=\"Open In Colab\"/></a>"
      ]
    },
    {
      "cell_type": "markdown",
      "source": [
        "**Arewa Data Science Academy**\n",
        "\n",
        "Deep Learning Cohort1.0\n",
        "\n",
        "Name: Aminu Hamza Nababa\n",
        "\n",
        "Email: alaminhnab4@gmail.com\n",
        "\n",
        "Title: Week 1 Solution\n",
        "\n",
        "Exercises Solution"
      ],
      "metadata": {
        "id": "-9U2OBC31Y3Q"
      }
    },
    {
      "cell_type": "code",
      "execution_count": 3,
      "metadata": {
        "id": "H19YSGjvjh5x",
        "colab": {
          "base_uri": "https://localhost:8080/"
        },
        "outputId": "a3a2a173-4a47-4670-fd13-63314ec115dc"
      },
      "outputs": [
        {
          "output_type": "execute_result",
          "data": {
            "text/plain": [
              "(tensor([[0.1290, 0.0942, 0.2571, 0.4599, 0.7504, 0.2432, 0.1291],\n",
              "         [0.3229, 0.1035, 0.4086, 0.1372, 0.5456, 0.6709, 0.4707],\n",
              "         [0.0881, 0.7634, 0.7649, 0.6903, 0.8070, 0.3696, 0.6248],\n",
              "         [0.6214, 0.3284, 0.5429, 0.5165, 0.1296, 0.8755, 0.1751],\n",
              "         [0.9878, 0.1393, 0.6006, 0.3440, 0.6009, 0.1054, 0.7379],\n",
              "         [0.0115, 0.7817, 0.3779, 0.2363, 0.6360, 0.8848, 0.5039],\n",
              "         [0.9324, 0.3465, 0.4234, 0.6071, 0.9618, 0.9405, 0.5214]]),\n",
              " torch.Size([7, 7]))"
            ]
          },
          "metadata": {},
          "execution_count": 3
        }
      ],
      "source": [
        "# 1\n",
        "import torch\n",
        "\n",
        "# crt random tensor\n",
        "X = torch.rand(size=(7, 7))\n",
        "X, X.shape"
      ]
    },
    {
      "cell_type": "markdown",
      "source": [
        "2. Create a random tensor with shape (7, 7)."
      ],
      "metadata": {
        "id": "JIu9QG8-7gc4"
      }
    },
    {
      "cell_type": "code",
      "source": [
        "# 2\n",
        "Y = torch.rand(size=(1, 7))\n",
        "Z = torch.matmul(X, Y.T)\n",
        "Z, Z.shape"
      ],
      "metadata": {
        "colab": {
          "base_uri": "https://localhost:8080/"
        },
        "id": "6-7id9wZ0_9Q",
        "outputId": "26734e78-f301-4f09-b4d6-bad4588c40f6"
      },
      "execution_count": 4,
      "outputs": [
        {
          "output_type": "execute_result",
          "data": {
            "text/plain": [
              "(tensor([[0.8167],\n",
              "         [1.1029],\n",
              "         [2.0963],\n",
              "         [1.5941],\n",
              "         [1.0884],\n",
              "         [1.9336],\n",
              "         [1.9130]]),\n",
              " torch.Size([7, 1]))"
            ]
          },
          "metadata": {},
          "execution_count": 4
        }
      ]
    },
    {
      "cell_type": "markdown",
      "source": [
        "3. Perform a matrix multiplication on the tensor from 2 with another random tensor with shape (1, 7)"
      ],
      "metadata": {
        "id": "MDJuHwHg3gcJ"
      }
    },
    {
      "cell_type": "code",
      "source": [
        "Y = torch.rand(size=(1, 7))\n",
        "Z = torch.matmul(X, Y.T)\n",
        "Z, Z.shape"
      ],
      "metadata": {
        "colab": {
          "base_uri": "https://localhost:8080/"
        },
        "id": "Xwi1-sPr3j3p",
        "outputId": "99b37f50-5ee3-4670-96d4-be993cab7f00"
      },
      "execution_count": 5,
      "outputs": [
        {
          "output_type": "execute_result",
          "data": {
            "text/plain": [
              "(tensor([[1.1223],\n",
              "         [1.7293],\n",
              "         [2.4358],\n",
              "         [1.8221],\n",
              "         [2.4466],\n",
              "         [1.9645],\n",
              "         [2.7820]]),\n",
              " torch.Size([7, 1]))"
            ]
          },
          "metadata": {},
          "execution_count": 5
        }
      ]
    },
    {
      "cell_type": "markdown",
      "source": [
        "4. Set the random seed to 0 and do 2 & 3 over again."
      ],
      "metadata": {
        "id": "NBVxIMcx4BFf"
      }
    },
    {
      "cell_type": "code",
      "source": [
        "# manual seed setting\n",
        "torch.manual_seed(0)\n",
        "\n",
        "# Crtng two random tensors\n",
        "X = torch.rand(size=(7, 7))\n",
        "Y = torch.rand(size=(1, 7))\n",
        "\n",
        "# Matrix multiply tensors\n",
        "Z = torch.matmul(X, Y.T)\n",
        "Z, Z.shape"
      ],
      "metadata": {
        "colab": {
          "base_uri": "https://localhost:8080/"
        },
        "id": "nIzBXr5M39kQ",
        "outputId": "93fc41b4-e749-47f1-d941-9d1d9a89db0e"
      },
      "execution_count": 6,
      "outputs": [
        {
          "output_type": "execute_result",
          "data": {
            "text/plain": [
              "(tensor([[1.8542],\n",
              "         [1.9611],\n",
              "         [2.2884],\n",
              "         [3.0481],\n",
              "         [1.7067],\n",
              "         [2.5290],\n",
              "         [1.7989]]),\n",
              " torch.Size([7, 1]))"
            ]
          },
          "metadata": {},
          "execution_count": 6
        }
      ]
    },
    {
      "cell_type": "markdown",
      "source": [
        "5. Speaking of random seeds, we saw how to set it with torch.manual_seed() but is there a GPU equivalent?"
      ],
      "metadata": {
        "id": "NSNhwsaw4iJa"
      }
    },
    {
      "cell_type": "code",
      "source": [
        "# random seed on the GPU\n",
        "torch.cuda.manual_seed(1234)"
      ],
      "metadata": {
        "id": "JGfaaNRO4suW"
      },
      "execution_count": 7,
      "outputs": []
    },
    {
      "cell_type": "markdown",
      "source": [
        "6. Create two random tensors of shape (2, 3) and send them both to the GPU (you'll need access to a GPU for this). Set torch.manual_seed(1234) when creating the tensors (this doesn't have to be the GPU random seed)."
      ],
      "metadata": {
        "id": "Js6GUiwl5XI4"
      }
    },
    {
      "cell_type": "code",
      "source": [
        "# st random seed\n",
        "torch.manual_seed(1234)\n",
        "\n",
        "# Chck for access to GPU\n",
        "device = \"cuda\" if torch.cuda.is_available() else \"cpu\"\n",
        "print(f\"Device: {device}\")\n",
        "\n",
        "# Crt 2 random tensors on GPU\n",
        "tensor_A = torch.rand(size = (2,3)).to(device)\n",
        "tensor_B = torch.rand(size = (2,3)).to(device)\n",
        "tensor_A, tensor_B"
      ],
      "metadata": {
        "colab": {
          "base_uri": "https://localhost:8080/"
        },
        "id": "crbWbi8042zj",
        "outputId": "c226bf1a-9560-4a3c-d9bf-146b9300049a"
      },
      "execution_count": 9,
      "outputs": [
        {
          "output_type": "stream",
          "name": "stdout",
          "text": [
            "Device: cuda\n"
          ]
        },
        {
          "output_type": "execute_result",
          "data": {
            "text/plain": [
              "(tensor([[0.0290, 0.4019, 0.2598],\n",
              "         [0.3666, 0.0583, 0.7006]], device='cuda:0'),\n",
              " tensor([[0.0518, 0.4681, 0.6738],\n",
              "         [0.3315, 0.7837, 0.5631]], device='cuda:0'))"
            ]
          },
          "metadata": {},
          "execution_count": 9
        }
      ]
    },
    {
      "cell_type": "markdown",
      "source": [
        "7. Perform a matrix multiplication on the tensors you created in 6 (again, you may have to adjust the shapes of one of the tensors)."
      ],
      "metadata": {
        "id": "nEVSdRYv6CW1"
      }
    },
    {
      "cell_type": "code",
      "source": [
        "tensor_C = torch.matmul(tensor_A, tensor_B.T)\n",
        "tensor_C, tensor_C.shape"
      ],
      "metadata": {
        "colab": {
          "base_uri": "https://localhost:8080/"
        },
        "id": "Flx1WC9Y502W",
        "outputId": "ac92a967-0dbb-4b4d-cd40-bdeb53ef8f42"
      },
      "execution_count": 10,
      "outputs": [
        {
          "output_type": "execute_result",
          "data": {
            "text/plain": [
              "(tensor([[0.3647, 0.4709],\n",
              "         [0.5184, 0.5617]], device='cuda:0'),\n",
              " torch.Size([2, 2]))"
            ]
          },
          "metadata": {},
          "execution_count": 10
        }
      ]
    },
    {
      "cell_type": "markdown",
      "source": [
        "8. Find the maximum and minimum values of the output of 7."
      ],
      "metadata": {
        "id": "zrDg13Bs6MKt"
      }
    },
    {
      "cell_type": "code",
      "source": [
        "# max\n",
        "max = torch.max(tensor_C)\n",
        "\n",
        "# min\n",
        "min = torch.min(tensor_C)\n",
        "max, min"
      ],
      "metadata": {
        "colab": {
          "base_uri": "https://localhost:8080/"
        },
        "id": "5ctI5lAu6LDo",
        "outputId": "2e3c8687-c59f-4267-ce59-2b70b0dea017"
      },
      "execution_count": 11,
      "outputs": [
        {
          "output_type": "execute_result",
          "data": {
            "text/plain": [
              "(tensor(0.5617, device='cuda:0'), tensor(0.3647, device='cuda:0'))"
            ]
          },
          "metadata": {},
          "execution_count": 11
        }
      ]
    },
    {
      "cell_type": "markdown",
      "source": [
        "9. Find the maximum and minimum index values of the output of 7."
      ],
      "metadata": {
        "id": "5yDgwx-g6ekJ"
      }
    },
    {
      "cell_type": "code",
      "source": [
        "# arg max\n",
        "arg_max = torch.argmax(tensor_C)\n",
        "\n",
        "# arg min\n",
        "arg_min = torch.argmin(tensor_C)\n",
        "arg_max, arg_min"
      ],
      "metadata": {
        "colab": {
          "base_uri": "https://localhost:8080/"
        },
        "id": "3WOGfVCi6chR",
        "outputId": "fba1cc4f-40f6-42c3-aa71-77653bb0d26a"
      },
      "execution_count": 12,
      "outputs": [
        {
          "output_type": "execute_result",
          "data": {
            "text/plain": [
              "(tensor(3, device='cuda:0'), tensor(0, device='cuda:0'))"
            ]
          },
          "metadata": {},
          "execution_count": 12
        }
      ]
    },
    {
      "cell_type": "markdown",
      "source": [
        "10. Make a random tensor with shape (1, 1, 1, 10) and then create a new tensor with all the 1 dimensions removed to be left with a tensor of shape (10). Set the seed to 7 when you create it and print out the first tensor and it's shape as well as the second tensor and it's shape."
      ],
      "metadata": {
        "id": "DT8PM2um6uBo"
      }
    },
    {
      "cell_type": "code",
      "source": [
        "# st seed\n",
        "torch.manual_seed(7)\n",
        "\n",
        "# Crt random tensor\n",
        "tensor_D = torch.rand(size=(1, 1, 1, 10))\n",
        "\n",
        "# Rmv single dimensions\n",
        "tensor_E = tensor_D.squeeze()\n",
        "\n",
        "# Prnt out tensors\n",
        "print(tensor_D, tensor_D.shape)\n",
        "print(tensor_E, tensor_E.shape)"
      ],
      "metadata": {
        "colab": {
          "base_uri": "https://localhost:8080/"
        },
        "id": "_Y8dFPxS6siE",
        "outputId": "9a1361a4-6eaa-40f4-8750-7099cd012b3a"
      },
      "execution_count": 13,
      "outputs": [
        {
          "output_type": "stream",
          "name": "stdout",
          "text": [
            "tensor([[[[0.5349, 0.1988, 0.6592, 0.6569, 0.2328, 0.4251, 0.2071, 0.6297,\n",
            "           0.3653, 0.8513]]]]) torch.Size([1, 1, 1, 10])\n",
            "tensor([0.5349, 0.1988, 0.6592, 0.6569, 0.2328, 0.4251, 0.2071, 0.6297, 0.3653,\n",
            "        0.8513]) torch.Size([10])\n"
          ]
        }
      ]
    },
    {
      "cell_type": "code",
      "source": [],
      "metadata": {
        "id": "sNJb7R4t7Gsx"
      },
      "execution_count": null,
      "outputs": []
    }
  ]
}