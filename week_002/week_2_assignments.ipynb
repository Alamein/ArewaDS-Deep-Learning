{
  "cells": [
    {
      "cell_type": "markdown",
      "metadata": {
        "colab_type": "text",
        "id": "view-in-github"
      },
      "source": [
        "<a href=\"https://colab.research.google.com/github/Alamein/ArewaDS-Deep-Learning/blob/main/week_2/week_2_assignments.ipynb\" target=\"_parent\"><img src=\"https://colab.research.google.com/assets/colab-badge.svg\" alt=\"Open In Colab\"/></a>"
      ]
    },
    {
      "cell_type": "markdown",
      "metadata": {
        "id": "ckL0T02vnvHP"
      },
      "source": [
        "## **Arewa Data Science Academy**\n",
        "\n",
        "### **Deep Learning Cohort1.0**\n",
        "\n",
        "### **Name: Aminu Hamza Nababa**\n",
        "\n",
        "### **Email: alaminhnab4@gmail.com**\n",
        "\n",
        "### **Title: Week 2 Solution**\n",
        "\n",
        "### **Exercises Solution**"
      ]
    },
    {
      "cell_type": "code",
      "execution_count": 2,
      "metadata": {
        "id": "90G1zVbQoKXM"
      },
      "outputs": [],
      "source": [
        "# import working libraries\n",
        "import torch\n",
        "import matplotlib.pyplot as plt\n",
        "from torch import nn"
      ]
    },
    {
      "cell_type": "markdown",
      "metadata": {
        "id": "gcec_G45o9WQ"
      },
      "source": [
        "1. Create a straight line dataset using the linear regression formula (weight * X + bias)."
      ]
    },
    {
      "cell_type": "code",
      "execution_count": 4,
      "metadata": {
        "colab": {
          "base_uri": "https://localhost:8080/"
        },
        "id": "WccIrzL6oxjp",
        "outputId": "24d9e146-bd66-4628-db06-7d9ed2d0bd28"
      },
      "outputs": [
        {
          "name": "stdout",
          "output_type": "stream",
          "text": [
            "Number of X samples: 100\n",
            "Number of y samples: 100\n",
            "First 10 X & y samples: \n",
            "X: tensor([[0.0000],\n",
            "        [0.0100],\n",
            "        [0.0200],\n",
            "        [0.0300],\n",
            "        [0.0400],\n",
            "        [0.0500],\n",
            "        [0.0600],\n",
            "        [0.0700],\n",
            "        [0.0800],\n",
            "        [0.0900]])\n",
            "y: tensor([[0.9000],\n",
            "        [0.9030],\n",
            "        [0.9060],\n",
            "        [0.9090],\n",
            "        [0.9120],\n",
            "        [0.9150],\n",
            "        [0.9180],\n",
            "        [0.9210],\n",
            "        [0.9240],\n",
            "        [0.9270]])\n"
          ]
        }
      ],
      "source": [
        "# Create the data parameters\n",
        "weight = 0.3\n",
        "bias = 0.9\n",
        "\n",
        "# Make X and y using linear regression feature\n",
        "X = torch.arange(0,1,0.01).unsqueeze(dim = 1)\n",
        "y = weight * X + bias\n",
        "\n",
        "print(f\"Number of X samples: {len(X)}\")\n",
        "print(f\"Number of y samples: {len(y)}\")\n",
        "print(f\"First 10 X & y samples: \\nX: {X[:10]}\\ny: {y[:10]}\")"
      ]
    },
    {
      "cell_type": "code",
      "execution_count": 5,
      "metadata": {
        "colab": {
          "base_uri": "https://localhost:8080/"
        },
        "id": "aTcKSV1gpgRw",
        "outputId": "60a91f7c-3322-484c-e641-acf9f342fed5"
      },
      "outputs": [
        {
          "data": {
            "text/plain": [
              "(80, 80, 20, 20)"
            ]
          },
          "execution_count": 5,
          "metadata": {},
          "output_type": "execute_result"
        }
      ],
      "source": [
        "# divide the data into training and testing\n",
        "train_split = int(len(X) * 0.8)\n",
        "X_train = X[:train_split]\n",
        "y_train = y[:train_split]\n",
        "X_test = X[train_split:]\n",
        "y_test = y[train_split:]\n",
        "len(X_train),len(y_train),len(X_test),len(y_test)"
      ]
    },
    {
      "cell_type": "code",
      "execution_count": 9,
      "metadata": {
        "colab": {
          "base_uri": "https://localhost:8080/",
          "height": 291
        },
        "id": "qSN7zzgWpwmd",
        "outputId": "58ffba21-1e35-47d9-990e-ffa6db7efe9a"
      },
      "outputs": [
        {
          "data": {
            "image/png": "[encoded data removed]",
            "text/plain": [
              "<Figure size 600x300 with 1 Axes>"
            ]
          },
          "metadata": {},
          "output_type": "display_data"
        }
      ],
      "source": [
        "# visualize the training and testing data\n",
        "def plot_predictions(train_data = X_train,\n",
        "                 train_labels = y_train,\n",
        "                 test_data = X_test,\n",
        "                 test_labels = y_test,\n",
        "                 predictions = None):\n",
        "  plt.figure(figsize = (6,3))\n",
        "  plt.scatter(train_data,train_labels,c = 'b',s = 4,label = \"Training data\")\n",
        "  plt.scatter(test_data,test_labels,c = 'g',s = 4,label = \"Test data\")\n",
        "\n",
        "  if predictions is not None:\n",
        "    plt.scatter(test_data,predictions,c = 'r',s = 4,label = \"Predictions\")\n",
        "  plt.legend(prop = {\"size\" : 12})\n",
        "plot_predictions()"
      ]
    },
    {
      "cell_type": "markdown",
      "metadata": {
        "id": "OaL-y955rGEq"
      },
      "source": [
        "2. Build a PyTorch model by subclassing nn.Module."
      ]
    },
    {
      "cell_type": "code",
      "execution_count": 20,
      "metadata": {
        "colab": {
          "base_uri": "https://localhost:8080/"
        },
        "id": "HE-2ouhQqTWw",
        "outputId": "ad0ecd1b-5305-42d1-c64f-2914a3bf4929"
      },
      "outputs": [
        {
          "data": {
            "text/plain": [
              "(LinearRegressionModel(),\n",
              " OrderedDict([('weight', tensor([0.8651])), ('bias', tensor([0.0284]))]))"
            ]
          },
          "execution_count": 20,
          "metadata": {},
          "output_type": "execute_result"
        }
      ],
      "source": [
        "# pytorch model by subclassing nn.Module\n",
        "# Linear regression model\n",
        "class LinearRegressionModel(nn.Module):\n",
        "  def __init__(self):\n",
        "    super().__init__()\n",
        "    self.weight = nn.Parameter(data=torch.randn(1,\n",
        "                                              requires_grad=True,\n",
        "                                              dtype=torch.float\n",
        "                                              ))\n",
        "\n",
        "    self.bias = nn.Parameter(data=torch.randn(1,\n",
        "                                              requires_grad=True,\n",
        "                                              dtype=torch.float\n",
        "                                              ))\n",
        "\n",
        "  def forward(self, x):\n",
        "    return self.weight * x + self.bias\n",
        "\n",
        "torch.manual_seed(32)\n",
        "model_1 = LinearRegressionModel()\n",
        "model_1,model_1.state_dict()"
      ]
    },
    {
      "cell_type": "code",
      "execution_count": 21,
      "metadata": {
        "colab": {
          "base_uri": "https://localhost:8080/"
        },
        "id": "pLKh3_zEsgRZ",
        "outputId": "ad278084-cfc6-44e1-947c-79f334fb4089"
      },
      "outputs": [
        {
          "data": {
            "text/plain": [
              "device(type='cpu')"
            ]
          },
          "execution_count": 21,
          "metadata": {},
          "output_type": "execute_result"
        }
      ],
      "source": [
        "# module 1 parameter\n",
        "next(model_1.parameters()).device"
      ]
    },
    {
      "cell_type": "code",
      "execution_count": 23,
      "metadata": {
        "colab": {
          "base_uri": "https://localhost:8080/"
        },
        "id": "a8v6YWwyvKdc",
        "outputId": "4e04de6a-5cd4-44b9-f96e-fbcb0a8eae65"
      },
      "outputs": [
        {
          "data": {
            "text/plain": [
              "[Parameter containing:\n",
              " tensor([0.8651], device='cuda:0', requires_grad=True),\n",
              " Parameter containing:\n",
              " tensor([0.0284], device='cuda:0', requires_grad=True)]"
            ]
          },
          "execution_count": 23,
          "metadata": {},
          "output_type": "execute_result"
        }
      ],
      "source": [
        "# model 1 into device\n",
        "model_1.to(device)\n",
        "list(model_1.parameters())"
      ]
    },
    {
      "cell_type": "markdown",
      "metadata": {
        "id": "Lg6j-fbpwC6n"
      },
      "source": [
        "3. Create a loss function and optimizer using nn.L1Loss() and torch.optim.SGD(params, lr) respectively."
      ]
    },
    {
      "cell_type": "code",
      "execution_count": 26,
      "metadata": {
        "id": "8Ca4XDWnvgjl"
      },
      "outputs": [],
      "source": [
        "# loss funtion and optimizer\n",
        "loss_fn = nn.L1Loss()\n",
        "optimizer = torch.optim.SGD(params = model_1.parameters(),\n",
        "                            lr = 0.03)"
      ]
    },
    {
      "cell_type": "code",
      "execution_count": 31,
      "metadata": {
        "colab": {
          "base_uri": "https://localhost:8080/"
        },
        "id": "Fqyj8l5awgfr",
        "outputId": "898181ea-8124-4029-e993-546fc65d2b8c"
      },
      "outputs": [
        {
          "name": "stdout",
          "output_type": "stream",
          "text": [
            "Epoch: 0, Train loss: 0.023, Test loss: 0.007\n",
            "Epoch: 30, Train loss: 0.023, Test loss: 0.007\n",
            "Epoch: 60, Train loss: 0.023, Test loss: 0.007\n",
            "Epoch: 90, Train loss: 0.023, Test loss: 0.007\n",
            "Epoch: 120, Train loss: 0.023, Test loss: 0.007\n",
            "Epoch: 150, Train loss: 0.023, Test loss: 0.007\n",
            "Epoch: 180, Train loss: 0.023, Test loss: 0.007\n",
            "Epoch: 210, Train loss: 0.023, Test loss: 0.007\n",
            "Epoch: 240, Train loss: 0.023, Test loss: 0.007\n",
            "Epoch: 270, Train loss: 0.023, Test loss: 0.007\n",
            "Epoch: 300, Train loss: 0.023, Test loss: 0.007\n",
            "Epoch: 330, Train loss: 0.023, Test loss: 0.007\n",
            "Epoch: 360, Train loss: 0.023, Test loss: 0.007\n",
            "Epoch: 390, Train loss: 0.023, Test loss: 0.007\n",
            "Epoch: 420, Train loss: 0.023, Test loss: 0.007\n",
            "Epoch: 450, Train loss: 0.023, Test loss: 0.007\n",
            "Epoch: 480, Train loss: 0.023, Test loss: 0.007\n",
            "Epoch: 510, Train loss: 0.023, Test loss: 0.007\n",
            "Epoch: 540, Train loss: 0.023, Test loss: 0.007\n",
            "Epoch: 570, Train loss: 0.023, Test loss: 0.007\n",
            "Epoch: 600, Train loss: 0.023, Test loss: 0.007\n",
            "Epoch: 630, Train loss: 0.023, Test loss: 0.007\n",
            "Epoch: 660, Train loss: 0.023, Test loss: 0.007\n",
            "Epoch: 690, Train loss: 0.023, Test loss: 0.007\n",
            "Epoch: 720, Train loss: 0.023, Test loss: 0.007\n",
            "Epoch: 750, Train loss: 0.023, Test loss: 0.007\n",
            "Epoch: 780, Train loss: 0.023, Test loss: 0.007\n",
            "Epoch: 810, Train loss: 0.023, Test loss: 0.007\n",
            "Epoch: 840, Train loss: 0.023, Test loss: 0.007\n"
          ]
        }
      ],
      "source": [
        "# training loop\n",
        "torch.manual_seed(57)\n",
        "\n",
        "epochs = 864\n",
        "\n",
        "# share the data to the device\n",
        "X_train = X_train.to(device)\n",
        "X_test = X_test.to(device)\n",
        "y_train = y_train.to(device)\n",
        "y_test = y_test.to(device)\n",
        "\n",
        "for epoch in range(epochs):\n",
        "  model_1.train()\n",
        "  y_pred = model_1(X_train)\n",
        "  loss = loss_fn(y_pred,y_train)\n",
        "\n",
        "  optimizer.zero_grad()\n",
        "  loss.backward()\n",
        "\n",
        "  optimizer.step() # optimizer\n",
        "\n",
        "  if epoch % 30 == 0:  # testing function\n",
        "    model_1.eval()\n",
        "    with torch.inference_mode():\n",
        "      y_preds = model_1(X_test)\n",
        "      test_loss = loss_fn(y_preds,y_test)\n",
        "\n",
        "      print(f\"Epoch: {epoch}, Train loss: {loss:.3f}, Test loss: {test_loss:.3f}\")"
      ]
    },
    {
      "cell_type": "markdown",
      "metadata": {
        "id": "glPKyNHezgFL"
      },
      "source": [
        "4. Make predictions with the trained model on the test data."
      ]
    },
    {
      "cell_type": "code",
      "execution_count": 32,
      "metadata": {
        "colab": {
          "base_uri": "https://localhost:8080/"
        },
        "id": "Ji2kuh9AyWY1",
        "outputId": "62782081-2a7c-461c-ccf6-466634dae907"
      },
      "outputs": [
        {
          "data": {
            "text/plain": [
              "tensor([[1.1712],\n",
              "        [1.1744],\n",
              "        [1.1776],\n",
              "        [1.1808],\n",
              "        [1.1840],\n",
              "        [1.1872],\n",
              "        [1.1905],\n",
              "        [1.1937],\n",
              "        [1.1969],\n",
              "        [1.2001],\n",
              "        [1.2033],\n",
              "        [1.2065],\n",
              "        [1.2097],\n",
              "        [1.2129],\n",
              "        [1.2162],\n",
              "        [1.2194],\n",
              "        [1.2226],\n",
              "        [1.2258],\n",
              "        [1.2290],\n",
              "        [1.2322]], device='cuda:0')"
            ]
          },
          "execution_count": 32,
          "metadata": {},
          "output_type": "execute_result"
        }
      ],
      "source": [
        "# testing the train model\n",
        "model_1.eval()\n",
        "\n",
        "with torch.inference_mode():\n",
        "  y_preds = model_1(X_test)\n",
        "y_preds"
      ]
    },
    {
      "cell_type": "code",
      "execution_count": 33,
      "metadata": {
        "colab": {
          "base_uri": "https://localhost:8080/"
        },
        "id": "443a6PCxz6Bq",
        "outputId": "c61cc74c-040d-40d7-b4a0-3aad736d771e"
      },
      "outputs": [
        {
          "data": {
            "text/plain": [
              "tensor([[1.1712],\n",
              "        [1.1744],\n",
              "        [1.1776],\n",
              "        [1.1808],\n",
              "        [1.1840],\n",
              "        [1.1872],\n",
              "        [1.1905],\n",
              "        [1.1937],\n",
              "        [1.1969],\n",
              "        [1.2001],\n",
              "        [1.2033],\n",
              "        [1.2065],\n",
              "        [1.2097],\n",
              "        [1.2129],\n",
              "        [1.2162],\n",
              "        [1.2194],\n",
              "        [1.2226],\n",
              "        [1.2258],\n",
              "        [1.2290],\n",
              "        [1.2322]])"
            ]
          },
          "execution_count": 33,
          "metadata": {},
          "output_type": "execute_result"
        }
      ],
      "source": [
        "y_preds.cpu()"
      ]
    },
    {
      "cell_type": "code",
      "execution_count": 34,
      "metadata": {
        "colab": {
          "base_uri": "https://localhost:8080/",
          "height": 291
        },
        "id": "wlK9UBHT0QXE",
        "outputId": "ed305bac-98ac-4ffd-c959-6ff2908e6640"
      },
      "outputs": [
        {
          "data": {
            "image/png": "[encoded data removed]",
            "text/plain": [
              "<Figure size 600x300 with 1 Axes>"
            ]
          },
          "metadata": {},
          "output_type": "display_data"
        }
      ],
      "source": [
        "# visualize the prediction\n",
        "plot_predictions(predictions = y_preds.cpu())"
      ]
    },
    {
      "cell_type": "markdown",
      "metadata": {
        "id": "qCnLkENu08sV"
      },
      "source": [
        "5. Save your trained model's state_dict() to file."
      ]
    },
    {
      "cell_type": "code",
      "execution_count": 35,
      "metadata": {
        "colab": {
          "base_uri": "https://localhost:8080/"
        },
        "id": "tQkUpDYr0dsX",
        "outputId": "edd13684-1269-4141-9325-40f2e08a05db"
      },
      "outputs": [
        {
          "name": "stdout",
          "output_type": "stream",
          "text": [
            "Saving model to the model directory models/week_1_ADS_DL_Model\n"
          ]
        }
      ],
      "source": [
        "from pathlib import Path\n",
        "\n",
        "# model folder\n",
        "mdl_fldr = Path(\"models\") # (Model folder)\n",
        "mdl_fldr.mkdir(parents = True,exist_ok = True) # (make model directory)\n",
        "# naming model\n",
        "mdl_nm = \"week_1_ADS_DL_Model\" # (Model Name)\n",
        "mdl_dir = mdl_fldr / mdl_nm\n",
        "# add model to model directory (mdl_dir)\n",
        "print(f\"Saving model to the model directory {mdl_dir}\")\n",
        "torch.save(obj = model_1.state_dict(),f = mdl_dir)"
      ]
    },
    {
      "cell_type": "code",
      "execution_count": 37,
      "metadata": {
        "colab": {
          "base_uri": "https://localhost:8080/"
        },
        "id": "xS799CmB3Dpe",
        "outputId": "fa7c2dd3-cafa-4ce6-e54c-9af1ae2797e2"
      },
      "outputs": [
        {
          "data": {
            "text/plain": [
              "LinearRegressionModel()"
            ]
          },
          "execution_count": 37,
          "metadata": {},
          "output_type": "execute_result"
        }
      ],
      "source": [
        "loaded_model = LinearRegressionModel()\n",
        "loaded_model.load_state_dict(torch.load(f = mdl_dir))\n",
        "loaded_model.to(device)"
      ]
    },
    {
      "cell_type": "code",
      "execution_count": 38,
      "metadata": {
        "colab": {
          "base_uri": "https://localhost:8080/"
        },
        "id": "ceQVWnRT3ebq",
        "outputId": "367e73d7-d365-424b-fbec-7c3157127501"
      },
      "outputs": [
        {
          "data": {
            "text/plain": [
              "tensor([[True],\n",
              "        [True],\n",
              "        [True],\n",
              "        [True],\n",
              "        [True],\n",
              "        [True],\n",
              "        [True],\n",
              "        [True],\n",
              "        [True],\n",
              "        [True],\n",
              "        [True],\n",
              "        [True],\n",
              "        [True],\n",
              "        [True],\n",
              "        [True],\n",
              "        [True],\n",
              "        [True],\n",
              "        [True],\n",
              "        [True],\n",
              "        [True]], device='cuda:0')"
            ]
          },
          "execution_count": 38,
          "metadata": {},
          "output_type": "execute_result"
        }
      ],
      "source": [
        "y_preds_new = loaded_model(X_test)\n",
        "y_preds == y_preds_new"
      ]
    },
    {
      "cell_type": "code",
      "execution_count": null,
      "metadata": {
        "id": "OFmcS7v13vyJ"
      },
      "outputs": [],
      "source": []
    }
  ],
  "metadata": {
    "accelerator": "GPU",
    "colab": {
      "authorship_tag": "ABX9TyOeSFbNag39ClB3qGPal9CC",
      "gpuType": "T4",
      "include_colab_link": true,
      "mount_file_id": "159Qls8qKHdEGq9oFeHrbqIr3BTjOoIki",
      "provenance": []
    },
    "kernelspec": {
      "display_name": "Python 3",
      "name": "python3"
    },
    "language_info": {
      "name": "python"
    }
  },
  "nbformat": 4,
  "nbformat_minor": 0
}
